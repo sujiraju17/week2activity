{
 "cells": [
  {
   "cell_type": "code",
   "execution_count": 6,
   "id": "75236800",
   "metadata": {},
   "outputs": [
    {
     "name": "stdout",
     "output_type": "stream",
     "text": [
      "your password is: lazymarket8!\n"
     ]
    }
   ],
   "source": [
    "import random\n",
    "adj_li=['active','admirable','lazy','confused','slow']\n",
    "noun_li=['designer','market','laptop','hostel','newspaper','lion']\n",
    "num_li=list(range(0,100))\n",
    "sp_ch_li=['!','@','#','$','%','^','&','*']\n",
    "adj=random.choice(adj_li)\n",
    "noun=random.choice(noun_li)\n",
    "num=random.choice(num_li)\n",
    "sp_ch=random.choice(sp_ch_li)\n",
    "pswd=adj+noun+str(num)+sp_ch\n",
    "print(\"your password is:\",pswd)\n"
   ]
  },
  {
   "cell_type": "code",
   "execution_count": null,
   "id": "2588fd45",
   "metadata": {},
   "outputs": [],
   "source": []
  },
  {
   "cell_type": "code",
   "execution_count": null,
   "id": "7ad7cd72",
   "metadata": {},
   "outputs": [],
   "source": []
  }
 ],
 "metadata": {
  "kernelspec": {
   "display_name": "Python 3",
   "language": "python",
   "name": "python3"
  },
  "language_info": {
   "codemirror_mode": {
    "name": "ipython",
    "version": 3
   },
   "file_extension": ".py",
   "mimetype": "text/x-python",
   "name": "python",
   "nbconvert_exporter": "python",
   "pygments_lexer": "ipython3",
   "version": "3.8.8"
  }
 },
 "nbformat": 4,
 "nbformat_minor": 5
}
